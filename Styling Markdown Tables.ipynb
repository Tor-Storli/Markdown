{
 "cells": [
  {
   "cell_type": "markdown",
   "id": "431c9a5f",
   "metadata": {},
   "source": [
    "# Styling Markdown Tables Demo"
   ]
  },
  {
   "cell_type": "markdown",
   "id": "9a7d3fed",
   "metadata": {},
   "source": [
    "### Create and style a Markdown Table"
   ]
  },
  {
   "cell_type": "raw",
   "id": "3fb8dfa4",
   "metadata": {},
   "source": [
    " :---  = left align\n",
    " ---:  = right align\n",
    " :---: = centered \n",
    " \n",
    "| Name         | Address                      |                  Zip  |\n",
    "|:---:           |:---                            | ---:                    |\n",
    "|Tor           | 123 ABC Road, Chicago IL     | 60001                 |"
   ]
  },
  {
   "cell_type": "markdown",
   "id": "6ba9287f",
   "metadata": {},
   "source": [
    "### Below is what the markdown table looks like\n",
    " Notice the following: \n",
    " - **Name** (centered)\n",
    " - **Address** (left aligned)\n",
    " - **Zip** (Right Aligned)"
   ]
  },
  {
   "cell_type": "markdown",
   "id": "fcb2d066",
   "metadata": {},
   "source": [
    "| Name         | Address                      |                  Zip  |\n",
    "|:---:           |:---                            | ---:                    |\n",
    "|Tor           | 123 ABC Road, Chicago IL     | 60001                 |"
   ]
  },
  {
   "cell_type": "markdown",
   "id": "cf18da96",
   "metadata": {},
   "source": [
    "#### The following code will left align a markdown table in a cell and make some other css changes to the text"
   ]
  },
  {
   "cell_type": "code",
   "execution_count": null,
   "id": "9210af5f",
   "metadata": {},
   "outputs": [],
   "source": [
    "%%html\n",
    "<style>\n",
    "table {float:left; width:100%;} \n",
    "th {float:center; color:orange} \n",
    "tr {float:center; color:red}\n",
    "</style>"
   ]
  },
  {
   "cell_type": "markdown",
   "id": "d419a6fe",
   "metadata": {},
   "source": [
    "<div id=\"div1\"></div>\n",
    "\n",
    "| Name         | Address                      |                  Zip  |\n",
    "|:---:           |:---                            | ---:                    |\n",
    "|Tor           | 123 ABC Road, Chicago IL     | 60001                 |\n",
    "|Tor           | 123 ABC Road, Chicago IL     | 60001                 |\n",
    "|Tor           | 123 ABC Road, Chicago IL     | 60001                 |\n",
    "|Tor           | 123 ABC Road, Chicago IL     | 60001                 |\n",
    "|Tor           | 123 ABC Road, Chicago IL     | 60001                 |"
   ]
  },
  {
   "cell_type": "code",
   "execution_count": null,
   "id": "59ec6b9c",
   "metadata": {},
   "outputs": [],
   "source": [
    "%%html\n",
    "<style>\n",
    "#div1 + table {\n",
    "    color:#000000;\n",
    "    float:left; width:80%; \n",
    "    border-collapse: collapse;\n",
    "    font-family: Geneva, sans-serif;\n",
    "}\n",
    "#div1 + table tbody tr td:first-child {\n",
    "      color:#000000;\n",
    "      font-weight: bold;\n",
    "}\n",
    "#div1 + table tbody tr:nth-child(2) td:nth-child(2){\n",
    "    font-size: 20px;  \n",
    "}\n",
    "\n",
    "#div1 + table thead tr {\n",
    "    text-align: center;\n",
    "    background-color: #C27066;\n",
    "    color: #ffffff;\n",
    "    font-weight: bold;\n",
    "    border: 1px solid #54585d;\n",
    "}\n",
    "#div1 + table tbody tr:nth-child(even) {\n",
    "    background-color: #C3CFDB;\n",
    "}\n",
    "#div1 + table th:nth-child(1) {\n",
    "  width: 20%;\n",
    "}\n",
    "#div1 + table th:nth-child(2) {\n",
    "  width: 60%\n",
    "}\n",
    "#div1 + table th:nth-child(3) {\n",
    "  width: 20%\n",
    "}  \n",
    "</style>"
   ]
  },
  {
   "cell_type": "markdown",
   "id": "1c47fb5e",
   "metadata": {},
   "source": [
    "### The following code will create a table using HTML syntax"
   ]
  },
  {
   "cell_type": "markdown",
   "id": "923148f5",
   "metadata": {},
   "source": [
    "<table id = \"mytable2\">\n",
    "    <thead>\n",
    "        <tr>\n",
    "            <td>Name</td>\n",
    "            <td>Address</td>\n",
    "            <td>Zip</td>\n",
    "        </tr>\n",
    "    </thead>\n",
    "    <tbody>\n",
    "        <tr>\n",
    "            <td>Tor</td> \n",
    "            <td>123 ABC Road, Chicago IL</td> \n",
    "            <td>60001</td> \n",
    "        </tr>\n",
    "           <tr>\n",
    "            <td>Sandy</td> \n",
    "            <td>456 Jefferson Road, Chicago IL</td> \n",
    "            <td>60021</td> \n",
    "        </tr>\n",
    "           <tr>\n",
    "            <td>Christine</td> \n",
    "            <td>34567 Clark Drive, Chicago IL</td> \n",
    "            <td>60031</td> \n",
    "        </tr>\n",
    "           <tr>\n",
    "            <td>Peter</td> \n",
    "            <td>45633 Lake Street, Fort Lauderdale FL</td> \n",
    "            <td>33311</td> \n",
    "        </tr>\n",
    "    </tbody>\n",
    "</table>"
   ]
  },
  {
   "cell_type": "code",
   "execution_count": null,
   "id": "860d4903",
   "metadata": {},
   "outputs": [],
   "source": [
    "%%html\n",
    "<style>\n",
    "#mytable2 {\n",
    "    float:left; width:100%; \n",
    "    border-collapse: collapse;\n",
    "    font-family: Tahoma, Algerian, Geneva, sans-serif;\n",
    "}\n",
    "#mytable2 td {\n",
    "    padding: 15px;\n",
    "}\n",
    "#mytable2 thead td {\n",
    "    text-align: center;\n",
    "    background-color: #386087;\n",
    "    color: #ffffff;\n",
    "    font-weight: bold;\n",
    "    font-size: 13px;\n",
    "    border: 1px solid #54585d;\n",
    "}\n",
    "#mytable2 tbody td {\n",
    "    text-align: center;\n",
    "    color: #636363;\n",
    "    border: 1px solid #dddfe1;\n",
    "}\n",
    "#mytable2 tbody tr {\n",
    "    background-color: #ffffff;\n",
    "}\n",
    "#mytable2 tbody tr:nth-child(even) {\n",
    "    background-color: #C3CFDB;\n",
    "}\n",
    "#mytable2 tbody tr:nth-child(even) {\n",
    "    background-color: #C3CFDB;\n",
    "}\n",
    "#mytable2 tbody tr td:first-child {\n",
    "      font-weight: bold;\n",
    "}\n",
    "</style>"
   ]
  },
  {
   "cell_type": "code",
   "execution_count": null,
   "id": "58c6b855",
   "metadata": {},
   "outputs": [],
   "source": [
    "%%html\n",
    "<style>\n",
    "table {float:left; width:80%;} \n",
    "th {float:left; color:blue;} \n",
    ".mytable thead tr:first-child th:nth-child(2){\n",
    "   color: orange;align:center;\n",
    "}\n",
    "tr {float:left; color:red}\n",
    ".mytable tbody tr:first-child td:nth-child(2) {\n",
    "   color: red;align:left;\n",
    "}\n",
    "td {float:left; color:green}\n",
    "</style>"
   ]
  },
  {
   "cell_type": "markdown",
   "id": "1feff8ad",
   "metadata": {},
   "source": [
    "<table  class=\"mytable\">\n",
    "    <thead>\n",
    "        <tr>\n",
    "            <th>Name</th>\n",
    "            <th>Address</th>\n",
    "            <th>Zip</th>\n",
    "        </tr>\n",
    "    </thead>\n",
    "    <tbody>\n",
    "        <tr>\n",
    "            <td>Tor</td> \n",
    "            <td >123 ABC Road, Chicago IL</td> \n",
    "            <td>60001</td> \n",
    "        </tr>\n",
    "    </tbody>\n",
    "</table>"
   ]
  },
  {
   "cell_type": "markdown",
   "id": "3948dc45",
   "metadata": {},
   "source": [
    "### Python Collection Types"
   ]
  },
  {
   "cell_type": "code",
   "execution_count": null,
   "id": "2cd9c08b",
   "metadata": {},
   "outputs": [],
   "source": [
    "%%html\n",
    "<style>\n",
    "table {float:left; width:70%;} \n",
    "tr {float:center; color:black}\n",
    "td {float:center; color:black}\n",
    "</style>"
   ]
  },
  {
   "cell_type": "markdown",
   "id": "9542de77",
   "metadata": {},
   "source": [
    "\n",
    "| Type | Description |\n",
    "| :- |:- |\n",
    "|  **SET()** | A set is a collection which is **unordered, unchangeable, and unindexed**. |\n",
    "|        | Note: Set items are unchangeable, but you can remove items and add new items. |\n",
    "|  **LIST[]** | List items are **ordered, changeable, and ALLOW duplicate values**. |\n",
    "||Note: List items are **indexed**, the first item has index [0], the second item has index [1] etc.|\n",
    "|**TUPLE()**|A tuple is a collection which is **ordered and unchangeable**.|\n",
    "|**DICTIONARY{}**|Dictionaries are used to store data values in key:value pairs.|\n",
    "||Note: A dictionary is a collection which is **ordered, changeable and DO NOT allow duplicates**.|"
   ]
  },
  {
   "cell_type": "code",
   "execution_count": null,
   "id": "ece1ac81",
   "metadata": {},
   "outputs": [],
   "source": [
    " from IPython.core.display import HTML\n",
    " css = open('./Markdown/stylesheets/style_table4.css').read()\n",
    " HTML('<style>{}</style>'.format(css))     "
   ]
  },
  {
   "cell_type": "markdown",
   "id": "b1aa57e1",
   "metadata": {},
   "source": [
    "\n",
    "| Type | Description |\n",
    "| :- |:- |\n",
    "|  SET() | A set is a collection which is unordered, unchangeable, and unindexed. |\n",
    "|        | Note: Set items are unchangeable, but you can remove items and add new items. |\n",
    "|  LIST[] | List items are ordered, changeable, and ALLOW duplicate values. |\n",
    "||Note: List items are indexed, the first item has index [0], the second item has index [1] etc.|\n",
    "|TUPLE()|A tuple is a collection which is ordered and unchangeable.|\n",
    "|DICTIONARY{}|Dictionaries are used to store data values in key:value pairs.|\n",
    "||Note: A dictionary is a collection which is ordered, changeable and DO NOT allow duplicates.|"
   ]
  }
 ],
 "metadata": {
  "kernelspec": {
   "display_name": "Python 3 (ipykernel)",
   "language": "python",
   "name": "python3"
  },
  "language_info": {
   "codemirror_mode": {
    "name": "ipython",
    "version": 3
   },
   "file_extension": ".py",
   "mimetype": "text/x-python",
   "name": "python",
   "nbconvert_exporter": "python",
   "pygments_lexer": "ipython3",
   "version": "3.10.6"
  }
 },
 "nbformat": 4,
 "nbformat_minor": 5
}
